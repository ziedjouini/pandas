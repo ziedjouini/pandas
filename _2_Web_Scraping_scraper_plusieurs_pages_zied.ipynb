{
  "nbformat": 4,
  "nbformat_minor": 0,
  "metadata": {
    "colab": {
      "provenance": [],
      "authorship_tag": "ABX9TyM0v/kQGiMjookaRZfbrC38",
      "include_colab_link": true
    },
    "kernelspec": {
      "name": "python3",
      "display_name": "Python 3"
    },
    "language_info": {
      "name": "python"
    }
  },
  "cells": [
    {
      "cell_type": "markdown",
      "metadata": {
        "id": "view-in-github",
        "colab_type": "text"
      },
      "source": [
        "<a href=\"https://colab.research.google.com/github/ziedjouini/pandas/blob/main/_2_Web_Scraping_scraper_plusieurs_pages_zied.ipynb\" target=\"_parent\"><img src=\"https://colab.research.google.com/assets/colab-badge.svg\" alt=\"Open In Colab\"/></a>"
      ]
    },
    {
      "cell_type": "markdown",
      "source": [
        "1)Observe attentivement l'URL de la page 1. Essaye de passer à la page 2. Dans un notebook python, essaye de générer automatiquement les URL des 5 premières pages (avec une boucle par exemple ?)\n",
        "\n",
        "2)Utilise BeautifulSoup pour scraper les facts et les notes des 5 premières pages, grâce aux URL que tu as générées. (Nous pourrions faire les 100 ou 200 pages suivantes, mais ca risque d'entrainer une charge inutile pour ceux qui administrent ce serveur.) Le résultat doit être dans un dictionnaire.\n",
        "\n",
        "3)Crée un DataFrame contenant ces données, il doit donc posséder 2 colonnes et 100 lignes.\n",
        "\n",
        "4)Crée une visualisation de la distribution des notes.\n",
        "\n",
        "5)Partage le lien vers ton notebook en guise de solution au challenge."
      ],
      "metadata": {
        "id": "f46k157aJCxr"
      }
    },
    {
      "cell_type": "markdown",
      "source": [
        "Dico={'blague':[],'note':[]}\n",
        "for i in range(1,6):\n",
        "  url = \"http://www.chucknorrisfacts.fr/facts/top/\"+str(i)\n",
        "  page = requests.get(url, headers={'User-Agent': navigator})\n",
        "  soup = BeautifulSoup(page.text, 'html.parser')\n",
        "  blague=soup.find_all(class_=\"card\")\n",
        "  for j in range(len(blague)):\n",
        "    item=blague[j].find(class_=\"card-text\")\n",
        "    note=blague[j].find('span')\n",
        "    nota=note.text\n",
        "    blag=item.text\n",
        "    Dico['blague'].append(blag)\n",
        "    Dico['note'].append(nota)"
      ],
      "metadata": {
        "id": "vJYLNtxvjJjh"
      }
    },
    {
      "cell_type": "code",
      "source": [
        "#https://colab.research.google.com/drive/1U6DowwhlFOOt4sO9OZJeyYG7HEztrq3a?usp=sharing\n",
        "#https://colab.research.google.com/drive/1KWS5ppMevQXkPus-UkdJzeMnRd-alGiG?usp=sharing"
      ],
      "metadata": {
        "id": "lOVN72kQgEIB"
      },
      "execution_count": null,
      "outputs": []
    },
    {
      "cell_type": "code",
      "source": [
        "#importe bibio\n",
        "from bs4 import BeautifulSoup as bs\n",
        "import requests\n",
        "import pandas as pd"
      ],
      "metadata": {
        "id": "sggsj6rrJyCK"
      },
      "execution_count": null,
      "outputs": []
    },
    {
      "cell_type": "code",
      "source": [],
      "metadata": {
        "id": "vdMIhnzizIbQ"
      },
      "execution_count": null,
      "outputs": []
    },
    {
      "cell_type": "code",
      "source": [],
      "metadata": {
        "id": "h2sYq-QWzJso"
      },
      "execution_count": null,
      "outputs": []
    },
    {
      "cell_type": "code",
      "source": [
        "#http://www.chucknorrisfacts.fr/facts/top/1\n",
        "#creer boucle for d'aller page 1 au page 5\n",
        "#url = \"http://www.chucknorrisfacts.fr/facts/top/{page_num}\"\n",
        "pages=[]\n",
        "page_num=1\n",
        "for url in range(1,6):\n",
        "  url=f\"http://www.chucknorrisfacts.fr/facts/top/{page_num}\"\n",
        "  page_num+=1\n",
        "  pages.append(url)\n",
        "print(pages)\n",
        "\n"
      ],
      "metadata": {
        "colab": {
          "base_uri": "https://localhost:8080/"
        },
        "id": "dsPClHEjKkCS",
        "outputId": "9d3bb22b-1967-4c0e-c1f8-9ead7b1ce775"
      },
      "execution_count": null,
      "outputs": [
        {
          "output_type": "stream",
          "name": "stdout",
          "text": [
            "['http://www.chucknorrisfacts.fr/facts/top/1', 'http://www.chucknorrisfacts.fr/facts/top/2', 'http://www.chucknorrisfacts.fr/facts/top/3', 'http://www.chucknorrisfacts.fr/facts/top/4', 'http://www.chucknorrisfacts.fr/facts/top/5']\n"
          ]
        }
      ]
    },
    {
      "cell_type": "code",
      "source": [
        "html = requests.get(\"http://www.chucknorrisfacts.fr/facts/top/1\")\n",
        "html_doc=html.text"
      ],
      "metadata": {
        "id": "RBqG7p8EarNP"
      },
      "execution_count": null,
      "outputs": []
    },
    {
      "cell_type": "code",
      "source": [
        "#creating HTML parser with beautiful\n",
        "soup = bs(html_doc, 'html.parser')\n",
        "soup"
      ],
      "metadata": {
        "id": "5XKJd5dGKw8B"
      },
      "execution_count": null,
      "outputs": []
    },
    {
      "cell_type": "code",
      "source": [
        "containers= soup.find_all(\"div\",{\"class\":\"card\"})\n",
        "len(containers)"
      ],
      "metadata": {
        "colab": {
          "base_uri": "https://localhost:8080/"
        },
        "id": "xDWaTX_CKzL5",
        "outputId": "fbda5465-dd77-4f2c-b5e5-f5199c5c2a8a"
      },
      "execution_count": null,
      "outputs": [
        {
          "output_type": "execute_result",
          "data": {
            "text/plain": [
              "20"
            ]
          },
          "metadata": {},
          "execution_count": 84
        }
      ]
    },
    {
      "cell_type": "code",
      "source": [
        "#jokes = soup.find_all('div', {\"class\" : \"card\"})\n",
        "#jokes[7].get_text()\n",
        "\n",
        "#ratings = soup.find_all('span')\n",
        "#ratings[7].get_text()\n",
        "#my_dict = {}\n",
        "#for i in range(len(jokes)):\n",
        "  #my_dict[jokes[i].find(class_='card-text').get_text()] = ratings[i].get_text()\n",
        "#print(my_dict)"
      ],
      "metadata": {
        "id": "k-OJw5IlVfId"
      },
      "execution_count": null,
      "outputs": []
    },
    {
      "cell_type": "code",
      "source": [
        "for container in containers:\n",
        "  blaque=container.find_all(\"div\",{\"class\":\"card-body bg-light rounded\"})\n",
        "  print(blaque[0].text.strip())"
      ],
      "metadata": {
        "id": "7PdVK0qmb2cX"
      },
      "execution_count": null,
      "outputs": []
    },
    {
      "cell_type": "code",
      "source": [
        "for container in containers:\n",
        "  notes=container.find(\"span\")\n",
        "  print(notes.text.strip())"
      ],
      "metadata": {
        "colab": {
          "base_uri": "https://localhost:8080/"
        },
        "id": "ibU6kGDkdAtA",
        "outputId": "b30a2fff-e361-48e9-8fc8-127b9fd3a75d"
      },
      "execution_count": null,
      "outputs": [
        {
          "output_type": "stream",
          "name": "stdout",
          "text": [
            "(8.22/10)\n",
            "(8.22/10)\n",
            "(8.22/10)\n",
            "(8.22/10)\n",
            "(8.22/10)\n",
            "(8.21/10)\n",
            "(8.21/10)\n",
            "(8.21/10)\n",
            "(8.21/10)\n",
            "(8.21/10)\n",
            "(8.21/10)\n",
            "(8.21/10)\n",
            "(8.21/10)\n",
            "(8.21/10)\n",
            "(8.21/10)\n",
            "(8.21/10)\n",
            "(8.21/10)\n",
            "(8.21/10)\n",
            "(8.21/10)\n",
            "(8.21/10)\n"
          ]
        }
      ]
    },
    {
      "cell_type": "code",
      "source": [
        "blaque1=[]\n",
        "notes1=[]\n",
        "for container in containers:\n",
        "  blaque=container.find_all(\"div\",{\"class\":\"card-body bg-light rounded\"})\n",
        "  blaque1.append(blaque[0].text.strip())\n",
        "  notes=container.find(\"span\")\n",
        "  notes1.append(notes.text.strip())\n",
        "  dict1=dict(zip(blaque1,notes1))\n",
        "print(dict1)\n"
      ],
      "metadata": {
        "colab": {
          "base_uri": "https://localhost:8080/"
        },
        "id": "u_2GO7J0kzDa",
        "outputId": "f85629c3-b3e4-4429-c24d-f0ac7562c923"
      },
      "execution_count": null,
      "outputs": [
        {
          "output_type": "stream",
          "name": "stdout",
          "text": [
            "{\"Chuck Norris connait la dernière décimale de Pi, et celle d'après aussi.\": '(8.22/10)', 'Quand Chuck norris achète un produit et que le deuxième est gratuit, il ne prend que le deuxième.': '(8.22/10)', \"Chuck norris est le seul roux à qui l'on a jamais fait de remarque sur la couleur de ses cheveux...\": '(8.22/10)', \"Quand Chuck Norris fait le Tour de France, il passe par les DOM TOM sinon c'est trop facile.\": '(8.22/10)', 'Après un épisode de Walker Texas Ranger, il y a toujours plusieurs épisodes de FBI porté disparu. Coïncidence ? Je ne pense pas...': '(8.22/10)', 'Gandhi : \"La violence ne résout rien !\" Chuck Norris : \"Parce que tu ne frappes pas assez fort\"...': '(8.21/10)', 'Chuck Norris sait employer le mot \"fur\" ailleurs que dans \"au fur et à mesure\".': '(8.21/10)', 'Quand on meurt on ne voit pas de lumiere blanche ni sa vie défiler devant ses yeux. Par contre on entend le générique de fin de Walker Texas Ranger': '(8.21/10)', \"Un jour, un canard et un castor se sont foutu de la gueule de Chuck Norris. Depuis, l'ornithorynque a vraiment l'air d'un con.\": '(8.21/10)', \"Quand Chuck Norris couche avec une femme mariée, c'est le mari qui se cache dans le placard.\": '(8.21/10)', 'Un jour, par maladresse, Chuck Norris a pissé a côté. Seul Noë et quelques animaux ont survecu.': '(8.21/10)', \"Chuck Norris a toujours raison.Et s'il a tort, c'est qu'il a raison d'avoir tort.\": '(8.21/10)', 'Si Chuck Norris te donne rendez-vous le 30 Fevrier, tu y vas.': '(8.21/10)', \"Un jour, Chuck Norris a été mordu par une araignée génétiquement modifiée par un scientifique fou. Depuis, l'araignée porte un chapeau de cow-boy.\": '(8.21/10)', 'Quand Chuck Norris mange un petit écolier, il recrache le cartable et les chaussures.': '(8.21/10)', 'Quand Chuck Norris télécharge de la musique illégalement, il reçois des lettres de remerciement des artistes.': '(8.21/10)', 'Chuck Norris peut plier une chips sans la briser.': '(8.21/10)', 'Quand Chuck Norris gagne à Questions pour un champion, il gagne un écran plat et une playstation 3 à la place du dictionnaire.': '(8.21/10)', 'Chuck Norris a déjà couru une minute en moins de soixante secondes.': '(8.21/10)', 'Chuck Norris peut claquer des doigts de pied.': '(8.21/10)'}\n"
          ]
        }
      ]
    },
    {
      "cell_type": "markdown",
      "source": [
        "  #notes=container.find(\"span\")\n",
        "    #notes1.append(notes.text.strip())\n",
        "\n",
        "    #dictt=dict(zip(blague,notess))\n",
        "#print(dictt)"
      ],
      "metadata": {
        "id": "J-dTx-Prvas0"
      }
    },
    {
      "cell_type": "markdown",
      "source": [
        "l'exercice commence par là"
      ],
      "metadata": {
        "id": "U7PAnuiMtmTo"
      }
    },
    {
      "cell_type": "code",
      "source": [
        " \n",
        "for item in pages:\n",
        "    page = requests.get(item)\n",
        "    soup = bs(page.text, 'html.parser')\n",
        "\n",
        "    containers= soup.find_all(\"div\",{\"class\":\"card\"})\n",
        "    \n",
        "    blague=[]\n",
        "    notes=[]\n",
        "    for container in containers:\n",
        "      blaque=container.find_all(\"div\",{\"class\":\"card-body bg-light rounded\"})\n",
        "      blague.append(blaque[0].text.strip())\n",
        "      notes=container.find(\"span\")\n",
        "      notes.append(notes.text.strip())\n",
        "      \n",
        "    print(blague)\n",
        "     \n",
        "    "
      ],
      "metadata": {
        "colab": {
          "base_uri": "https://localhost:8080/"
        },
        "id": "WVBUSCGiqris",
        "outputId": "4db4d454-4034-4441-af5e-c618d599332d"
      },
      "execution_count": null,
      "outputs": [
        {
          "output_type": "stream",
          "name": "stdout",
          "text": [
            "[\"Les ennemis des amis de Chuck Norris sont ses amis. Et oui! Les ennemis de Chuck Norris n'existent plus.\", '', \"Un jour Chuck Norris a eu un zero en latin, depuis c'est une langue morte.\", 'Chuck Norris ne sait pas à quoi ressemble Nicolas Sarkozy,  en effet Chuck Norris ne baisse jamais les yeux.', \"L'avenir se demande parfois ce que Chuck Norris lui réserve.\", \"Chuck Norris n'a pas de père. On ne nique pas la mère de Chuck Norris.\", \"Chuck Norris ne ment pas, c'est la vérité qui se trompe.\", 'Les samouraïs tuent des mouches avec leurs sabres...Chuck Norris, lui, tue des samouraïs avec des mouches', \"Cherchez l'intrus : Un rouge-gorge, un pigeon, un moineau et Chuck Norris.Réponse : Un rouge-gorge, un pigeon et un moineau.\", \"Les ennemis de Chuck Norris lui disent souvent d'aller au diable. Le Diable aimerait bien qu'ils arrêtent.\", 'Chuck Norris ne se masturbe jamais. Chuck Norris est inébranlable.', 'Chuck Norris peut ressusciter un angle mort.', 'Chuck Norris est le seul homme à posséder une bible dédicacée.', 'Un jour, les PowerRangers ont rencontré Chuck Norris. Maintenant on les appelle les Télétubbies.', \"Une seule Tortue Ninja à osé défié Chuck Norris. Maintenant on l'appelle Franklin.\", 'Hercule est un demi-dieu, Dieu est un demi-Chuck Norris', 'Un jour un mec a refuser de filer une clope à Chuck Norris. Depuis, on prévient sur tous les paquets que \"Fumer tue\".', 'Quand Chuck Norris lance une pièce, elle fait toujours pile: personne ne fait face à Chuck Norris!', \"Chuck Norris n'est pas égal à lui-même, il est meilleur.\", 'Chuck Norris peut se souvenir du futur.']\n",
            "[\"Un jour, Chuck Norris a courru si vite qu'il a failli se rentrer dedans.\", \"Chuck Norris peut faire rentrer 3 litres d'eau dans une bouteille d'un litre. En tassant bien.\", \"Un jour, un gaulois a cru qu'il pouvait attaquer Chuck Norris après avoir bu de la potion magiqueIl s'appelait Paraplégix\", 'Chuck Norris a gagné un tournoi de poker avec des cartes pokémon', 'Certains disent : \"La violence ne résout rien\"Chuck Norris leur répond \"C\\'est que t\\'as pas tapé assez fort\"', 'Moïse a coupé la mer en deux. Chuck Norris l\\'a recollé en disant \"tu refais ça, je te pète la gueule\".', 'Quand Chuck Norris viole la loi, elle en redemande.', \"Chuck Norris a déjà compté jusqu'à l'infini. Deux fois.\", 'Si Chuck Norris avait joué dans \"il faut sauver le soldat Ryan\", le film se serait appelé \"il faut sauver l\\'armée allemande\".', 'Chuck Norris a retrouvé Ornicar.', \"Un jour Chuck Norris a lu le dictionnaire. Il a compris l'histoire.\", 'Chuck Norris a planté son ordinateur. Et il a fleuri.', \"Il n'y avait pas 12 mais 13 travaux d'Hercule. Le 13ème étant de mettre une baffe à Chuck Norris. Depuis, le 13 porte malheur.\", 'Quand Chuck Norris fait du ski tout nu, il laisse 3 traces dans la neige.', 'Chuck Norris est vraiment le 100 000ème internaute à voir cette bannière et à remporter la voiture.', 'Chuck Norris joue au cerf-volant avec de vrais cerfs.', 'Lorsque Chuck Norris va au cinema et que son portable sonne, on met sur pause.', 'Quand Chuck Norris joue à Resident Evil, ce sont les zombies qui doivent survivre...', 'Selon certaines sources, il y aurait un spermatozoïde de Chuck Norris dans un lac écossais...', \"Chuck Norris a déjà eu Alzheimer. Il s'en souvient très bien.\"]\n",
            "['Chuck Norris peut y aller par 4 chemins', \"Quand Chuck Norris fait une erreur lors de l'examen d'histoire, l'histoire change\", 'Il y a bien longtemps Chuck Norris et Dieu se sont battus. Vous avez vu Dieu récemment ?', \"Chuck Norris a déjà bu toute l'eau du robinet.\", 'Chuck Norris a invité Albert Einstein à son dîner de cons.', \"Si Mickey a quatre doigts, c'est parce qu'il a fait un doigt d'honneur à Chuck Norris.\", \"Le fusil a pompe de Chuck Norris est en prison pour port d'arme illégal.\", \"Chuck Norris peut te prouver que la condamnation à mort n'est pas la peine maximale.\", \"Chuck Norris a déja frôlé la mort....elle ne s'en est jamais remise.\", 'Chuck Norris sait qui est le méchant dans Tetris.', 'Quand Chuck Norris regarde la vérité en face, elle baisse les yeux', \"A son mariage, Chuck Norris avait Oncle Ben's en personne pour lui jeter du riz.\", 'Chuck Norris a accroché Magneto des X-men sur son frigo.', \"Quand Chuck Norris va aux toilettes, il y a toujours du papier. Chuck Norris n'est jamais au bout du rouleau.\", \"Même l'évidence se rend à Chuck Norris.\", \"Indiana Jones a survécu à l'explosion d'une bombe nucléaire en se cachant dans un frigo. Chuck Norris a survécu à la chute de l'astéroïde qui pulvérisa les dinosaures en mettant un k-way.\", \"Chuck Norris a battu le record de saut à la perche, sans prendre d'élan. Et sans perche. Et sans sauter.\", 'Archimède a dit: \"Donnez moi un point d\\'appui, un levier, et je vous soulèverai le monde!\".Chuck Norris a dit: \"Donnez moi 30 secondes!\".', 'A Halloween les enfants qui se déguisent en Chuck Norris et qui demandent des bonbons chez les voisins repartent avec les bonbons, la carte de crédit, les clefs de la voiture et la femme du voisin.', \"Quand Chuck Norris lui dit qu'il est gros, Obélix ferme sa gueule.\"]\n",
            "['Si le Titanic a coulé, c\\'est parce que Chuck Norris avait entendu un blondinet crier \"Je suis le maître du monde!\".', 'Si Chuck Norris beurre une tartine des deux côté elle retombera sur la tranche.', \"Avec un concombre, une boîte de thon et de l'huile d'olive, Chuck Norris fait de très bons brownies au chocolat.\", \"Un jour, Chuck Norris a parié qu'il pouvait sodomiser un ours. Il a gagné son pari. Neuf mois plus tard naissait Sébastien Chabal.\", \"Pi est égale a 3,14...Pas par coïncidence, seulement parce que la 3eme lettre de l'alphabet est C et la 14eme est N...Pi=CN=Chuck Norris\", \"A l'école Chuck Norris ne faisait pas une sarbacane avec ses vieux stylos, il faisait un 357 magnum\", \"Si la douleur n'est qu'une information pour le Terminator, elle n'est qu'une rumeur sans fondement pour Chuck Norris.\", \"Wall Street n'est que la 3ème bourse au monde, il y a d'abord les deux de Chuck Norris.\", \"La dernière fois que Chuck Norris a joué a Call of Duty, c'était de 1939 à 1945.\", 'Un jour, Chuck Norris a pété un câble. Ainsi est né le wi-fi.', 'Chuck Norris peut dire Schweppes en verlan.', 'Comme la foudre, Chuck Norris ne frappe jamais deux fois au même endroit. Pas besoin.', \"Quand Chuck Norris s'est mis aux arts martiaux, les Japonais se sont reconvertis dans les jeux videos.\", \"Les seuls qui ont osé défier Chuck Norris sont: les dinosaures, le gouvernement de l'Atlantide et Charlie.Résultat: tous ont disparu, mais on cherche encore Charlie !\", 'Chuck Norris a réalisé un film avec Paint', \"Chuck Norris n'a pas reçu son diplôme du bac. Les correcteurs comptent encore les points.\", 'Chuck Norris a fait loucher un cyclope.', 'Chuck Norris a une vision très nette du flou.', \"C'est Chuck Norris qui a décidé que toute phrase se terminait par un poing.\", \"Chuck Norris traverse le terrain d'Olive et Tom en moins d'un épisode\"]\n",
            "[\"Aux Jeux Olympiques, Chuck Norris a été disqualifié de l'épreuve de natation. Il courait sur l'eau.\", \"Jésus : Buvez ce vin, c'est mon sang.Chuck Norris : Mangez cette patate, c'est mon poing.\", 'Chuck Norris x 0 = Chuck Norris. On élimine pas Chuck Norris aussi facilement.', \"Si les anglais roulent à gauche, c'est parce que Chuck Norris roule à droite\", \"Certains arrivent à faire des O en expirant la fumée d'un cigare. Chuck Norris, lui, sait reproduire l'intégralité de l'alphabet chinois.\", \"Chuck Norris n'a pas de père... On ne nique pas la mère de Chuck Norris.\", \"Si Chuck Norris dit que tu vas passer un sale quart d'heure, rassure-toi, tu ne tiendras pas aussi longtemps.\", \"Un jour, Chuck Norris a souri à une inconnue. La fille est tombée enceinte. Depuis on construit des églises pour vénérer l'enfant.\", 'Quand Chuck Norris laisse sa voiture ouverte la nuit dans une cité difficile, le lendemain matin il la retrouve nettoyée, aspirée avec des lettres de remerciements.', 'Chuck Norris a fini \"Zelda Ocarina of Time\" plusieurs fois. Un jour, un mec lui a demandé de l\\'aide pour trouver l\\'épée au début, et Chuck Norris a répondu \"Quelle épée ?\".', 'Chuck Norris a eu 20/20 au bac philo 2009 en répondant \"pas pour moi\" à la question \"est il absurde de désirer l\\'impossible ?\".', \"Quand Chuck Norris ne répond pas correctement à une énigme du Père Fouras, c'est le Père Fouras qui plonge pour chercher la clef.\", 'Hercule est un demi Dieu et Dieu est un demi Chuck Norris.', 'Contrairement à ce que croient ceux qui se lèvent tôt, le monde appartient à Chuck Norris.', \"Chuck Norris ne dépose pas d'argent à la banque. Chuck Norris n'épargne rien, ni personne.\", 'Chuck Norris a déjà battu la montre dans une course contre la montre.', \"Si Chuck Norris n'utilise pas l'Oreal, c'est parce qu'il vaut mieux.\", 'Chuck Norris cueille les cerises avec la queue, alors que beaucoup galèrent encore avec la main.', 'Chuck Norris peut mettre un headshot au cavalier sans tête.', \"La femme a 2 chromosomes X, l'Homme a un chromosome X et un chromosome Y, Chuck Norris a 2 chromosomes Y. Chuck Norris n'a rien d'une femme.\"]\n"
          ]
        }
      ]
    },
    {
      "cell_type": "code",
      "source": [
        "dff=pd.DataFrame(dictt.items(),columns=['blague','notes'])\n",
        "dff"
      ],
      "metadata": {
        "colab": {
          "base_uri": "https://localhost:8080/",
          "height": 112
        },
        "id": "c7eRid3rwh89",
        "outputId": "2923d338-3e44-44ac-b5c3-700a283ee4f7"
      },
      "execution_count": null,
      "outputs": [
        {
          "output_type": "execute_result",
          "data": {
            "text/plain": [
              "                                              blague      notes\n",
              "0  Aux Jeux Olympiques, Chuck Norris a été disqua...  (8.22/10)\n",
              "1  Jésus : Buvez ce vin, c'est mon sang.Chuck Nor...  (8.22/10)"
            ],
            "text/html": [
              "\n",
              "  <div id=\"df-553b6900-3988-4ab9-83bd-9e8e2db17a05\">\n",
              "    <div class=\"colab-df-container\">\n",
              "      <div>\n",
              "<style scoped>\n",
              "    .dataframe tbody tr th:only-of-type {\n",
              "        vertical-align: middle;\n",
              "    }\n",
              "\n",
              "    .dataframe tbody tr th {\n",
              "        vertical-align: top;\n",
              "    }\n",
              "\n",
              "    .dataframe thead th {\n",
              "        text-align: right;\n",
              "    }\n",
              "</style>\n",
              "<table border=\"1\" class=\"dataframe\">\n",
              "  <thead>\n",
              "    <tr style=\"text-align: right;\">\n",
              "      <th></th>\n",
              "      <th>blague</th>\n",
              "      <th>notes</th>\n",
              "    </tr>\n",
              "  </thead>\n",
              "  <tbody>\n",
              "    <tr>\n",
              "      <th>0</th>\n",
              "      <td>Aux Jeux Olympiques, Chuck Norris a été disqua...</td>\n",
              "      <td>(8.22/10)</td>\n",
              "    </tr>\n",
              "    <tr>\n",
              "      <th>1</th>\n",
              "      <td>Jésus : Buvez ce vin, c'est mon sang.Chuck Nor...</td>\n",
              "      <td>(8.22/10)</td>\n",
              "    </tr>\n",
              "  </tbody>\n",
              "</table>\n",
              "</div>\n",
              "      <button class=\"colab-df-convert\" onclick=\"convertToInteractive('df-553b6900-3988-4ab9-83bd-9e8e2db17a05')\"\n",
              "              title=\"Convert this dataframe to an interactive table.\"\n",
              "              style=\"display:none;\">\n",
              "        \n",
              "  <svg xmlns=\"http://www.w3.org/2000/svg\" height=\"24px\"viewBox=\"0 0 24 24\"\n",
              "       width=\"24px\">\n",
              "    <path d=\"M0 0h24v24H0V0z\" fill=\"none\"/>\n",
              "    <path d=\"M18.56 5.44l.94 2.06.94-2.06 2.06-.94-2.06-.94-.94-2.06-.94 2.06-2.06.94zm-11 1L8.5 8.5l.94-2.06 2.06-.94-2.06-.94L8.5 2.5l-.94 2.06-2.06.94zm10 10l.94 2.06.94-2.06 2.06-.94-2.06-.94-.94-2.06-.94 2.06-2.06.94z\"/><path d=\"M17.41 7.96l-1.37-1.37c-.4-.4-.92-.59-1.43-.59-.52 0-1.04.2-1.43.59L10.3 9.45l-7.72 7.72c-.78.78-.78 2.05 0 2.83L4 21.41c.39.39.9.59 1.41.59.51 0 1.02-.2 1.41-.59l7.78-7.78 2.81-2.81c.8-.78.8-2.07 0-2.86zM5.41 20L4 18.59l7.72-7.72 1.47 1.35L5.41 20z\"/>\n",
              "  </svg>\n",
              "      </button>\n",
              "      \n",
              "  <style>\n",
              "    .colab-df-container {\n",
              "      display:flex;\n",
              "      flex-wrap:wrap;\n",
              "      gap: 12px;\n",
              "    }\n",
              "\n",
              "    .colab-df-convert {\n",
              "      background-color: #E8F0FE;\n",
              "      border: none;\n",
              "      border-radius: 50%;\n",
              "      cursor: pointer;\n",
              "      display: none;\n",
              "      fill: #1967D2;\n",
              "      height: 32px;\n",
              "      padding: 0 0 0 0;\n",
              "      width: 32px;\n",
              "    }\n",
              "\n",
              "    .colab-df-convert:hover {\n",
              "      background-color: #E2EBFA;\n",
              "      box-shadow: 0px 1px 2px rgba(60, 64, 67, 0.3), 0px 1px 3px 1px rgba(60, 64, 67, 0.15);\n",
              "      fill: #174EA6;\n",
              "    }\n",
              "\n",
              "    [theme=dark] .colab-df-convert {\n",
              "      background-color: #3B4455;\n",
              "      fill: #D2E3FC;\n",
              "    }\n",
              "\n",
              "    [theme=dark] .colab-df-convert:hover {\n",
              "      background-color: #434B5C;\n",
              "      box-shadow: 0px 1px 3px 1px rgba(0, 0, 0, 0.15);\n",
              "      filter: drop-shadow(0px 1px 2px rgba(0, 0, 0, 0.3));\n",
              "      fill: #FFFFFF;\n",
              "    }\n",
              "  </style>\n",
              "\n",
              "      <script>\n",
              "        const buttonEl =\n",
              "          document.querySelector('#df-553b6900-3988-4ab9-83bd-9e8e2db17a05 button.colab-df-convert');\n",
              "        buttonEl.style.display =\n",
              "          google.colab.kernel.accessAllowed ? 'block' : 'none';\n",
              "\n",
              "        async function convertToInteractive(key) {\n",
              "          const element = document.querySelector('#df-553b6900-3988-4ab9-83bd-9e8e2db17a05');\n",
              "          const dataTable =\n",
              "            await google.colab.kernel.invokeFunction('convertToInteractive',\n",
              "                                                     [key], {});\n",
              "          if (!dataTable) return;\n",
              "\n",
              "          const docLinkHtml = 'Like what you see? Visit the ' +\n",
              "            '<a target=\"_blank\" href=https://colab.research.google.com/notebooks/data_table.ipynb>data table notebook</a>'\n",
              "            + ' to learn more about interactive tables.';\n",
              "          element.innerHTML = '';\n",
              "          dataTable['output_type'] = 'display_data';\n",
              "          await google.colab.output.renderOutput(dataTable, element);\n",
              "          const docLink = document.createElement('div');\n",
              "          docLink.innerHTML = docLinkHtml;\n",
              "          element.appendChild(docLink);\n",
              "        }\n",
              "      </script>\n",
              "    </div>\n",
              "  </div>\n",
              "  "
            ]
          },
          "metadata": {},
          "execution_count": 138
        }
      ]
    },
    {
      "cell_type": "markdown",
      "source": [
        "# Nouvelle section ****  la vrais réponse"
      ],
      "metadata": {
        "id": "p8b8FKk6y-JW"
      }
    },
    {
      "cell_type": "markdown",
      "source": [
        "# Nouvelle section"
      ],
      "metadata": {
        "id": "1MZo0fRNy-u9"
      }
    },
    {
      "cell_type": "code",
      "source": [
        "#importe bibio\n",
        "from bs4 import BeautifulSoup as bs\n",
        "import requests\n",
        "import pandas as pd"
      ],
      "metadata": {
        "id": "KdG806r-zj13"
      },
      "execution_count": null,
      "outputs": []
    },
    {
      "cell_type": "code",
      "source": [
        "#http://www.chucknorrisfacts.fr/facts/top/1\n",
        "#creer boucle for d'aller page 1 au page 5\n",
        "#url = \"http://www.chucknorrisfacts.fr/facts/top/{page_num}\"\n",
        "pages=[]\n",
        "\n",
        "for i in range(1,6):\n",
        "  url=f\"http://www.chucknorrisfacts.fr/facts/top/\"+str(i)\n",
        "  pages.append(url)\n",
        "pages"
      ],
      "metadata": {
        "colab": {
          "base_uri": "https://localhost:8080/"
        },
        "id": "UkI4Qz1mzqQ4",
        "outputId": "256583c4-ef5f-401d-ccf4-966a8ef08d37"
      },
      "execution_count": null,
      "outputs": [
        {
          "output_type": "execute_result",
          "data": {
            "text/plain": [
              "['http://www.chucknorrisfacts.fr/facts/top/1',\n",
              " 'http://www.chucknorrisfacts.fr/facts/top/2',\n",
              " 'http://www.chucknorrisfacts.fr/facts/top/3',\n",
              " 'http://www.chucknorrisfacts.fr/facts/top/4',\n",
              " 'http://www.chucknorrisfacts.fr/facts/top/5']"
            ]
          },
          "metadata": {},
          "execution_count": 28
        }
      ]
    },
    {
      "cell_type": "code",
      "source": [
        "dictt={}\n",
        "for item in pages:\n",
        "  page = requests.get(item)\n",
        "  soup = bs(page.text, 'html.parser')\n",
        "\n",
        "  containers= soup.find_all(\"div\",{\"class\":\"card\"})\n",
        "  \n",
        "\n",
        "  for container in containers:\n",
        "    blaque=container.find_all(\"div\",{\"class\":\"card-body bg-light rounded\"})\n",
        "    #print(blaque[0].text.strip())\n",
        "    blague = blaque[0].text.strip()\n",
        "    notes=container.find(\"span\")\n",
        "    #print(notes.text.strip())\n",
        "    note_val = notes.text.strip()\n",
        "    dictt.setdefault(blague, note_val)\n",
        "print(dictt)\n",
        "\n",
        "\n"
      ],
      "metadata": {
        "colab": {
          "base_uri": "https://localhost:8080/"
        },
        "id": "Fj2OSppi0FCv",
        "outputId": "2c21940c-d762-4d00-dc84-1878c04d3736"
      },
      "execution_count": null,
      "outputs": [
        {
          "output_type": "stream",
          "name": "stdout",
          "text": [
            "{\"Les ennemis des amis de Chuck Norris sont ses amis. Et oui! Les ennemis de Chuck Norris n'existent plus.\": '(8.93/10)', '': '(8.43/10)', \"Un jour Chuck Norris a eu un zero en latin, depuis c'est une langue morte.\": '(8.43/10)', 'Chuck Norris ne sait pas à quoi ressemble Nicolas Sarkozy,  en effet Chuck Norris ne baisse jamais les yeux.': '(8.42/10)', \"L'avenir se demande parfois ce que Chuck Norris lui réserve.\": '(8.42/10)', \"Chuck Norris n'a pas de père. On ne nique pas la mère de Chuck Norris.\": '(8.34/10)', \"Chuck Norris ne ment pas, c'est la vérité qui se trompe.\": '(8.33/10)', 'Les samouraïs tuent des mouches avec leurs sabres...Chuck Norris, lui, tue des samouraïs avec des mouches': '(8.33/10)', \"Cherchez l'intrus : Un rouge-gorge, un pigeon, un moineau et Chuck Norris.Réponse : Un rouge-gorge, un pigeon et un moineau.\": '(8.32/10)', \"Les ennemis de Chuck Norris lui disent souvent d'aller au diable. Le Diable aimerait bien qu'ils arrêtent.\": '(8.31/10)', 'Chuck Norris ne se masturbe jamais. Chuck Norris est inébranlable.': '(8.31/10)', 'Chuck Norris peut ressusciter un angle mort.': '(8.30/10)', 'Chuck Norris est le seul homme à posséder une bible dédicacée.': '(8.30/10)', 'Un jour, les PowerRangers ont rencontré Chuck Norris. Maintenant on les appelle les Télétubbies.': '(8.30/10)', \"Une seule Tortue Ninja à osé défié Chuck Norris. Maintenant on l'appelle Franklin.\": '(8.29/10)', 'Hercule est un demi-dieu, Dieu est un demi-Chuck Norris': '(8.29/10)', 'Un jour un mec a refuser de filer une clope à Chuck Norris. Depuis, on prévient sur tous les paquets que \"Fumer tue\".': '(8.29/10)', 'Quand Chuck Norris lance une pièce, elle fait toujours pile: personne ne fait face à Chuck Norris!': '(8.28/10)', \"Chuck Norris n'est pas égal à lui-même, il est meilleur.\": '(8.28/10)', 'Chuck Norris peut se souvenir du futur.': '(8.27/10)', \"Un jour, Chuck Norris a courru si vite qu'il a failli se rentrer dedans.\": '(8.26/10)', \"Chuck Norris peut faire rentrer 3 litres d'eau dans une bouteille d'un litre. En tassant bien.\": '(8.26/10)', \"Un jour, un gaulois a cru qu'il pouvait attaquer Chuck Norris après avoir bu de la potion magiqueIl s'appelait Paraplégix\": '(8.25/10)', 'Chuck Norris a gagné un tournoi de poker avec des cartes pokémon': '(8.25/10)', 'Certains disent : \"La violence ne résout rien\"Chuck Norris leur répond \"C\\'est que t\\'as pas tapé assez fort\"': '(8.25/10)', 'Moïse a coupé la mer en deux. Chuck Norris l\\'a recollé en disant \"tu refais ça, je te pète la gueule\".': '(8.25/10)', 'Quand Chuck Norris viole la loi, elle en redemande.': '(8.25/10)', \"Chuck Norris a déjà compté jusqu'à l'infini. Deux fois.\": '(8.24/10)', 'Si Chuck Norris avait joué dans \"il faut sauver le soldat Ryan\", le film se serait appelé \"il faut sauver l\\'armée allemande\".': '(8.24/10)', 'Chuck Norris a retrouvé Ornicar.': '(8.24/10)', \"Un jour Chuck Norris a lu le dictionnaire. Il a compris l'histoire.\": '(8.24/10)', 'Chuck Norris a planté son ordinateur. Et il a fleuri.': '(8.24/10)', \"Il n'y avait pas 12 mais 13 travaux d'Hercule. Le 13ème étant de mettre une baffe à Chuck Norris. Depuis, le 13 porte malheur.\": '(8.24/10)', 'Quand Chuck Norris fait du ski tout nu, il laisse 3 traces dans la neige.': '(8.24/10)', 'Chuck Norris est vraiment le 100 000ème internaute à voir cette bannière et à remporter la voiture.': '(8.24/10)', 'Chuck Norris joue au cerf-volant avec de vrais cerfs.': '(8.24/10)', 'Lorsque Chuck Norris va au cinema et que son portable sonne, on met sur pause.': '(8.24/10)', 'Quand Chuck Norris joue à Resident Evil, ce sont les zombies qui doivent survivre...': '(8.24/10)', 'Selon certaines sources, il y aurait un spermatozoïde de Chuck Norris dans un lac écossais...': '(8.24/10)', \"Chuck Norris a déjà eu Alzheimer. Il s'en souvient très bien.\": '(8.24/10)', 'Chuck Norris peut y aller par 4 chemins': '(8.23/10)', \"Quand Chuck Norris fait une erreur lors de l'examen d'histoire, l'histoire change\": '(8.23/10)', 'Il y a bien longtemps Chuck Norris et Dieu se sont battus. Vous avez vu Dieu récemment ?': '(8.23/10)', \"Chuck Norris a déjà bu toute l'eau du robinet.\": '(8.23/10)', 'Chuck Norris a invité Albert Einstein à son dîner de cons.': '(8.23/10)', \"Si Mickey a quatre doigts, c'est parce qu'il a fait un doigt d'honneur à Chuck Norris.\": '(8.23/10)', \"Le fusil a pompe de Chuck Norris est en prison pour port d'arme illégal.\": '(8.23/10)', \"Chuck Norris peut te prouver que la condamnation à mort n'est pas la peine maximale.\": '(8.23/10)', \"Chuck Norris a déja frôlé la mort....elle ne s'en est jamais remise.\": '(8.23/10)', 'Chuck Norris sait qui est le méchant dans Tetris.': '(8.23/10)', 'Quand Chuck Norris regarde la vérité en face, elle baisse les yeux': '(8.23/10)', \"A son mariage, Chuck Norris avait Oncle Ben's en personne pour lui jeter du riz.\": '(8.23/10)', 'Chuck Norris a accroché Magneto des X-men sur son frigo.': '(8.23/10)', \"Quand Chuck Norris va aux toilettes, il y a toujours du papier. Chuck Norris n'est jamais au bout du rouleau.\": '(8.23/10)', \"Même l'évidence se rend à Chuck Norris.\": '(8.23/10)', \"Indiana Jones a survécu à l'explosion d'une bombe nucléaire en se cachant dans un frigo. Chuck Norris a survécu à la chute de l'astéroïde qui pulvérisa les dinosaures en mettant un k-way.\": '(8.23/10)', \"Chuck Norris a battu le record de saut à la perche, sans prendre d'élan. Et sans perche. Et sans sauter.\": '(8.23/10)', 'Archimède a dit: \"Donnez moi un point d\\'appui, un levier, et je vous soulèverai le monde!\".Chuck Norris a dit: \"Donnez moi 30 secondes!\".': '(8.23/10)', 'A Halloween les enfants qui se déguisent en Chuck Norris et qui demandent des bonbons chez les voisins repartent avec les bonbons, la carte de crédit, les clefs de la voiture et la femme du voisin.': '(8.23/10)', \"Quand Chuck Norris lui dit qu'il est gros, Obélix ferme sa gueule.\": '(8.23/10)', 'Si le Titanic a coulé, c\\'est parce que Chuck Norris avait entendu un blondinet crier \"Je suis le maître du monde!\".': '(8.23/10)', 'Si Chuck Norris beurre une tartine des deux côté elle retombera sur la tranche.': '(8.23/10)', \"Un jour, Chuck Norris a parié qu'il pouvait sodomiser un ours. Il a gagné son pari. Neuf mois plus tard naissait Sébastien Chabal.\": '(8.23/10)', \"Avec un concombre, une boîte de thon et de l'huile d'olive, Chuck Norris fait de très bons brownies au chocolat.\": '(8.23/10)', \"Pi est égale a 3,14...Pas par coïncidence, seulement parce que la 3eme lettre de l'alphabet est C et la 14eme est N...Pi=CN=Chuck Norris\": '(8.23/10)', \"A l'école Chuck Norris ne faisait pas une sarbacane avec ses vieux stylos, il faisait un 357 magnum\": '(8.23/10)', \"Si la douleur n'est qu'une information pour le Terminator, elle n'est qu'une rumeur sans fondement pour Chuck Norris.\": '(8.23/10)', \"Wall Street n'est que la 3ème bourse au monde, il y a d'abord les deux de Chuck Norris.\": '(8.23/10)', \"La dernière fois que Chuck Norris a joué a Call of Duty, c'était de 1939 à 1945.\": '(8.23/10)', 'Un jour, Chuck Norris a pété un câble. Ainsi est né le wi-fi.': '(8.23/10)', 'Chuck Norris peut dire Schweppes en verlan.': '(8.23/10)', 'Comme la foudre, Chuck Norris ne frappe jamais deux fois au même endroit. Pas besoin.': '(8.23/10)', \"Quand Chuck Norris s'est mis aux arts martiaux, les Japonais se sont reconvertis dans les jeux videos.\": '(8.23/10)', \"Les seuls qui ont osé défier Chuck Norris sont: les dinosaures, le gouvernement de l'Atlantide et Charlie.Résultat: tous ont disparu, mais on cherche encore Charlie !\": '(8.23/10)', 'Chuck Norris a réalisé un film avec Paint': '(8.23/10)', \"Chuck Norris n'a pas reçu son diplôme du bac. Les correcteurs comptent encore les points.\": '(8.23/10)', 'Chuck Norris a une vision très nette du flou.': '(8.23/10)', 'Chuck Norris a fait loucher un cyclope.': '(8.23/10)', \"C'est Chuck Norris qui a décidé que toute phrase se terminait par un poing.\": '(8.23/10)', \"Chuck Norris traverse le terrain d'Olive et Tom en moins d'un épisode\": '(8.23/10)', \"Jésus : Buvez ce vin, c'est mon sang.Chuck Norris : Mangez cette patate, c'est mon poing.\": '(8.22/10)', \"Aux Jeux Olympiques, Chuck Norris a été disqualifié de l'épreuve de natation. Il courait sur l'eau.\": '(8.22/10)', 'Chuck Norris x 0 = Chuck Norris. On élimine pas Chuck Norris aussi facilement.': '(8.22/10)', \"Si les anglais roulent à gauche, c'est parce que Chuck Norris roule à droite\": '(8.22/10)', \"Certains arrivent à faire des O en expirant la fumée d'un cigare. Chuck Norris, lui, sait reproduire l'intégralité de l'alphabet chinois.\": '(8.22/10)', \"Chuck Norris n'a pas de père... On ne nique pas la mère de Chuck Norris.\": '(8.22/10)', \"Si Chuck Norris dit que tu vas passer un sale quart d'heure, rassure-toi, tu ne tiendras pas aussi longtemps.\": '(8.22/10)', \"Un jour, Chuck Norris a souri à une inconnue. La fille est tombée enceinte. Depuis on construit des églises pour vénérer l'enfant.\": '(8.22/10)', 'Quand Chuck Norris laisse sa voiture ouverte la nuit dans une cité difficile, le lendemain matin il la retrouve nettoyée, aspirée avec des lettres de remerciements.': '(8.22/10)', 'Chuck Norris a fini \"Zelda Ocarina of Time\" plusieurs fois. Un jour, un mec lui a demandé de l\\'aide pour trouver l\\'épée au début, et Chuck Norris a répondu \"Quelle épée ?\".': '(8.22/10)', 'Chuck Norris a eu 20/20 au bac philo 2009 en répondant \"pas pour moi\" à la question \"est il absurde de désirer l\\'impossible ?\".': '(8.22/10)', \"Quand Chuck Norris ne répond pas correctement à une énigme du Père Fouras, c'est le Père Fouras qui plonge pour chercher la clef.\": '(8.22/10)', 'Hercule est un demi Dieu et Dieu est un demi Chuck Norris.': '(8.22/10)', 'Contrairement à ce que croient ceux qui se lèvent tôt, le monde appartient à Chuck Norris.': '(8.22/10)', \"Chuck Norris ne dépose pas d'argent à la banque. Chuck Norris n'épargne rien, ni personne.\": '(8.22/10)', 'Chuck Norris a déjà battu la montre dans une course contre la montre.': '(8.22/10)', \"Si Chuck Norris n'utilise pas l'Oreal, c'est parce qu'il vaut mieux.\": '(8.22/10)', 'Chuck Norris cueille les cerises avec la queue, alors que beaucoup galèrent encore avec la main.': '(8.22/10)', 'Chuck Norris peut mettre un headshot au cavalier sans tête.': '(8.22/10)', \"La femme a 2 chromosomes X, l'Homme a un chromosome X et un chromosome Y, Chuck Norris a 2 chromosomes Y. Chuck Norris n'a rien d'une femme.\": '(8.22/10)'}\n"
          ]
        }
      ]
    },
    {
      "cell_type": "markdown",
      "source": [],
      "metadata": {
        "id": "qjToPf1RbSbj"
      }
    },
    {
      "cell_type": "code",
      "source": [
        "dff=pd.DataFrame(dictt.items(), columns=['blagues', 'note_val'])\n",
        "dff"
      ],
      "metadata": {
        "colab": {
          "base_uri": "https://localhost:8080/",
          "height": 424
        },
        "id": "B-nfLIeibS3y",
        "outputId": "df0aa984-06e1-4881-e0af-18ac87fbb637"
      },
      "execution_count": null,
      "outputs": [
        {
          "output_type": "execute_result",
          "data": {
            "text/plain": [
              "                                              blagues   note_val\n",
              "0   Les ennemis des amis de Chuck Norris sont ses ...  (8.93/10)\n",
              "1                                                      (8.43/10)\n",
              "2   Un jour Chuck Norris a eu un zero en latin, de...  (8.43/10)\n",
              "3   Chuck Norris ne sait pas à quoi ressemble Nico...  (8.42/10)\n",
              "4   L'avenir se demande parfois ce que Chuck Norri...  (8.42/10)\n",
              "..                                                ...        ...\n",
              "95  Chuck Norris a déjà battu la montre dans une c...  (8.22/10)\n",
              "96  Si Chuck Norris n'utilise pas l'Oreal, c'est p...  (8.22/10)\n",
              "97  Chuck Norris cueille les cerises avec la queue...  (8.22/10)\n",
              "98  Chuck Norris peut mettre un headshot au cavali...  (8.22/10)\n",
              "99  La femme a 2 chromosomes X, l'Homme a un chrom...  (8.22/10)\n",
              "\n",
              "[100 rows x 2 columns]"
            ],
            "text/html": [
              "\n",
              "  <div id=\"df-0765a3ec-a1a1-442e-8329-173f70be0ddf\">\n",
              "    <div class=\"colab-df-container\">\n",
              "      <div>\n",
              "<style scoped>\n",
              "    .dataframe tbody tr th:only-of-type {\n",
              "        vertical-align: middle;\n",
              "    }\n",
              "\n",
              "    .dataframe tbody tr th {\n",
              "        vertical-align: top;\n",
              "    }\n",
              "\n",
              "    .dataframe thead th {\n",
              "        text-align: right;\n",
              "    }\n",
              "</style>\n",
              "<table border=\"1\" class=\"dataframe\">\n",
              "  <thead>\n",
              "    <tr style=\"text-align: right;\">\n",
              "      <th></th>\n",
              "      <th>blagues</th>\n",
              "      <th>note_val</th>\n",
              "    </tr>\n",
              "  </thead>\n",
              "  <tbody>\n",
              "    <tr>\n",
              "      <th>0</th>\n",
              "      <td>Les ennemis des amis de Chuck Norris sont ses ...</td>\n",
              "      <td>(8.93/10)</td>\n",
              "    </tr>\n",
              "    <tr>\n",
              "      <th>1</th>\n",
              "      <td></td>\n",
              "      <td>(8.43/10)</td>\n",
              "    </tr>\n",
              "    <tr>\n",
              "      <th>2</th>\n",
              "      <td>Un jour Chuck Norris a eu un zero en latin, de...</td>\n",
              "      <td>(8.43/10)</td>\n",
              "    </tr>\n",
              "    <tr>\n",
              "      <th>3</th>\n",
              "      <td>Chuck Norris ne sait pas à quoi ressemble Nico...</td>\n",
              "      <td>(8.42/10)</td>\n",
              "    </tr>\n",
              "    <tr>\n",
              "      <th>4</th>\n",
              "      <td>L'avenir se demande parfois ce que Chuck Norri...</td>\n",
              "      <td>(8.42/10)</td>\n",
              "    </tr>\n",
              "    <tr>\n",
              "      <th>...</th>\n",
              "      <td>...</td>\n",
              "      <td>...</td>\n",
              "    </tr>\n",
              "    <tr>\n",
              "      <th>95</th>\n",
              "      <td>Chuck Norris a déjà battu la montre dans une c...</td>\n",
              "      <td>(8.22/10)</td>\n",
              "    </tr>\n",
              "    <tr>\n",
              "      <th>96</th>\n",
              "      <td>Si Chuck Norris n'utilise pas l'Oreal, c'est p...</td>\n",
              "      <td>(8.22/10)</td>\n",
              "    </tr>\n",
              "    <tr>\n",
              "      <th>97</th>\n",
              "      <td>Chuck Norris cueille les cerises avec la queue...</td>\n",
              "      <td>(8.22/10)</td>\n",
              "    </tr>\n",
              "    <tr>\n",
              "      <th>98</th>\n",
              "      <td>Chuck Norris peut mettre un headshot au cavali...</td>\n",
              "      <td>(8.22/10)</td>\n",
              "    </tr>\n",
              "    <tr>\n",
              "      <th>99</th>\n",
              "      <td>La femme a 2 chromosomes X, l'Homme a un chrom...</td>\n",
              "      <td>(8.22/10)</td>\n",
              "    </tr>\n",
              "  </tbody>\n",
              "</table>\n",
              "<p>100 rows × 2 columns</p>\n",
              "</div>\n",
              "      <button class=\"colab-df-convert\" onclick=\"convertToInteractive('df-0765a3ec-a1a1-442e-8329-173f70be0ddf')\"\n",
              "              title=\"Convert this dataframe to an interactive table.\"\n",
              "              style=\"display:none;\">\n",
              "        \n",
              "  <svg xmlns=\"http://www.w3.org/2000/svg\" height=\"24px\"viewBox=\"0 0 24 24\"\n",
              "       width=\"24px\">\n",
              "    <path d=\"M0 0h24v24H0V0z\" fill=\"none\"/>\n",
              "    <path d=\"M18.56 5.44l.94 2.06.94-2.06 2.06-.94-2.06-.94-.94-2.06-.94 2.06-2.06.94zm-11 1L8.5 8.5l.94-2.06 2.06-.94-2.06-.94L8.5 2.5l-.94 2.06-2.06.94zm10 10l.94 2.06.94-2.06 2.06-.94-2.06-.94-.94-2.06-.94 2.06-2.06.94z\"/><path d=\"M17.41 7.96l-1.37-1.37c-.4-.4-.92-.59-1.43-.59-.52 0-1.04.2-1.43.59L10.3 9.45l-7.72 7.72c-.78.78-.78 2.05 0 2.83L4 21.41c.39.39.9.59 1.41.59.51 0 1.02-.2 1.41-.59l7.78-7.78 2.81-2.81c.8-.78.8-2.07 0-2.86zM5.41 20L4 18.59l7.72-7.72 1.47 1.35L5.41 20z\"/>\n",
              "  </svg>\n",
              "      </button>\n",
              "      \n",
              "  <style>\n",
              "    .colab-df-container {\n",
              "      display:flex;\n",
              "      flex-wrap:wrap;\n",
              "      gap: 12px;\n",
              "    }\n",
              "\n",
              "    .colab-df-convert {\n",
              "      background-color: #E8F0FE;\n",
              "      border: none;\n",
              "      border-radius: 50%;\n",
              "      cursor: pointer;\n",
              "      display: none;\n",
              "      fill: #1967D2;\n",
              "      height: 32px;\n",
              "      padding: 0 0 0 0;\n",
              "      width: 32px;\n",
              "    }\n",
              "\n",
              "    .colab-df-convert:hover {\n",
              "      background-color: #E2EBFA;\n",
              "      box-shadow: 0px 1px 2px rgba(60, 64, 67, 0.3), 0px 1px 3px 1px rgba(60, 64, 67, 0.15);\n",
              "      fill: #174EA6;\n",
              "    }\n",
              "\n",
              "    [theme=dark] .colab-df-convert {\n",
              "      background-color: #3B4455;\n",
              "      fill: #D2E3FC;\n",
              "    }\n",
              "\n",
              "    [theme=dark] .colab-df-convert:hover {\n",
              "      background-color: #434B5C;\n",
              "      box-shadow: 0px 1px 3px 1px rgba(0, 0, 0, 0.15);\n",
              "      filter: drop-shadow(0px 1px 2px rgba(0, 0, 0, 0.3));\n",
              "      fill: #FFFFFF;\n",
              "    }\n",
              "  </style>\n",
              "\n",
              "      <script>\n",
              "        const buttonEl =\n",
              "          document.querySelector('#df-0765a3ec-a1a1-442e-8329-173f70be0ddf button.colab-df-convert');\n",
              "        buttonEl.style.display =\n",
              "          google.colab.kernel.accessAllowed ? 'block' : 'none';\n",
              "\n",
              "        async function convertToInteractive(key) {\n",
              "          const element = document.querySelector('#df-0765a3ec-a1a1-442e-8329-173f70be0ddf');\n",
              "          const dataTable =\n",
              "            await google.colab.kernel.invokeFunction('convertToInteractive',\n",
              "                                                     [key], {});\n",
              "          if (!dataTable) return;\n",
              "\n",
              "          const docLinkHtml = 'Like what you see? Visit the ' +\n",
              "            '<a target=\"_blank\" href=https://colab.research.google.com/notebooks/data_table.ipynb>data table notebook</a>'\n",
              "            + ' to learn more about interactive tables.';\n",
              "          element.innerHTML = '';\n",
              "          dataTable['output_type'] = 'display_data';\n",
              "          await google.colab.output.renderOutput(dataTable, element);\n",
              "          const docLink = document.createElement('div');\n",
              "          docLink.innerHTML = docLinkHtml;\n",
              "          element.appendChild(docLink);\n",
              "        }\n",
              "      </script>\n",
              "    </div>\n",
              "  </div>\n",
              "  "
            ]
          },
          "metadata": {},
          "execution_count": 40
        }
      ]
    },
    {
      "cell_type": "code",
      "source": [
        "import plotly.express as px\n",
        "fig = px.violin(dff, x=\"note_val\" ,box=True, points=\"all\")\n",
        "fig.show()"
      ],
      "metadata": {
        "colab": {
          "base_uri": "https://localhost:8080/",
          "height": 542
        },
        "id": "DBI1DOhsbU3P",
        "outputId": "24b65f13-bdf2-4ad3-cee9-3d4e02992305"
      },
      "execution_count": null,
      "outputs": [
        {
          "output_type": "display_data",
          "data": {
            "text/html": [
              "<html>\n",
              "<head><meta charset=\"utf-8\" /></head>\n",
              "<body>\n",
              "    <div>            <script src=\"https://cdnjs.cloudflare.com/ajax/libs/mathjax/2.7.5/MathJax.js?config=TeX-AMS-MML_SVG\"></script><script type=\"text/javascript\">if (window.MathJax) {MathJax.Hub.Config({SVG: {font: \"STIX-Web\"}});}</script>                <script type=\"text/javascript\">window.PlotlyConfig = {MathJaxConfig: 'local'};</script>\n",
              "        <script src=\"https://cdn.plot.ly/plotly-2.8.3.min.js\"></script>                <div id=\"4f88895c-b38c-4485-b6e1-03218d7a6b2e\" class=\"plotly-graph-div\" style=\"height:525px; width:100%;\"></div>            <script type=\"text/javascript\">                                    window.PLOTLYENV=window.PLOTLYENV || {};                                    if (document.getElementById(\"4f88895c-b38c-4485-b6e1-03218d7a6b2e\")) {                    Plotly.newPlot(                        \"4f88895c-b38c-4485-b6e1-03218d7a6b2e\",                        [{\"alignmentgroup\":\"True\",\"box\":{\"visible\":true},\"hovertemplate\":\"note_val=%{x}<extra></extra>\",\"legendgroup\":\"\",\"marker\":{\"color\":\"#636efa\"},\"name\":\"\",\"offsetgroup\":\"\",\"orientation\":\"h\",\"points\":\"all\",\"scalegroup\":\"True\",\"showlegend\":false,\"x\":[\"(8.93/10)\",\"(8.43/10)\",\"(8.43/10)\",\"(8.42/10)\",\"(8.42/10)\",\"(8.34/10)\",\"(8.33/10)\",\"(8.33/10)\",\"(8.32/10)\",\"(8.31/10)\",\"(8.31/10)\",\"(8.30/10)\",\"(8.30/10)\",\"(8.30/10)\",\"(8.29/10)\",\"(8.29/10)\",\"(8.29/10)\",\"(8.28/10)\",\"(8.28/10)\",\"(8.27/10)\",\"(8.26/10)\",\"(8.26/10)\",\"(8.25/10)\",\"(8.25/10)\",\"(8.25/10)\",\"(8.25/10)\",\"(8.25/10)\",\"(8.24/10)\",\"(8.24/10)\",\"(8.24/10)\",\"(8.24/10)\",\"(8.24/10)\",\"(8.24/10)\",\"(8.24/10)\",\"(8.24/10)\",\"(8.24/10)\",\"(8.24/10)\",\"(8.24/10)\",\"(8.24/10)\",\"(8.24/10)\",\"(8.23/10)\",\"(8.23/10)\",\"(8.23/10)\",\"(8.23/10)\",\"(8.23/10)\",\"(8.23/10)\",\"(8.23/10)\",\"(8.23/10)\",\"(8.23/10)\",\"(8.23/10)\",\"(8.23/10)\",\"(8.23/10)\",\"(8.23/10)\",\"(8.23/10)\",\"(8.23/10)\",\"(8.23/10)\",\"(8.23/10)\",\"(8.23/10)\",\"(8.23/10)\",\"(8.23/10)\",\"(8.23/10)\",\"(8.23/10)\",\"(8.23/10)\",\"(8.23/10)\",\"(8.23/10)\",\"(8.23/10)\",\"(8.23/10)\",\"(8.23/10)\",\"(8.23/10)\",\"(8.23/10)\",\"(8.23/10)\",\"(8.23/10)\",\"(8.23/10)\",\"(8.23/10)\",\"(8.23/10)\",\"(8.23/10)\",\"(8.23/10)\",\"(8.23/10)\",\"(8.23/10)\",\"(8.23/10)\",\"(8.22/10)\",\"(8.22/10)\",\"(8.22/10)\",\"(8.22/10)\",\"(8.22/10)\",\"(8.22/10)\",\"(8.22/10)\",\"(8.22/10)\",\"(8.22/10)\",\"(8.22/10)\",\"(8.22/10)\",\"(8.22/10)\",\"(8.22/10)\",\"(8.22/10)\",\"(8.22/10)\",\"(8.22/10)\",\"(8.22/10)\",\"(8.22/10)\",\"(8.22/10)\",\"(8.22/10)\"],\"x0\":\" \",\"xaxis\":\"x\",\"y0\":\" \",\"yaxis\":\"y\",\"type\":\"violin\"}],                        {\"template\":{\"data\":{\"bar\":[{\"error_x\":{\"color\":\"#2a3f5f\"},\"error_y\":{\"color\":\"#2a3f5f\"},\"marker\":{\"line\":{\"color\":\"#E5ECF6\",\"width\":0.5},\"pattern\":{\"fillmode\":\"overlay\",\"size\":10,\"solidity\":0.2}},\"type\":\"bar\"}],\"barpolar\":[{\"marker\":{\"line\":{\"color\":\"#E5ECF6\",\"width\":0.5},\"pattern\":{\"fillmode\":\"overlay\",\"size\":10,\"solidity\":0.2}},\"type\":\"barpolar\"}],\"carpet\":[{\"aaxis\":{\"endlinecolor\":\"#2a3f5f\",\"gridcolor\":\"white\",\"linecolor\":\"white\",\"minorgridcolor\":\"white\",\"startlinecolor\":\"#2a3f5f\"},\"baxis\":{\"endlinecolor\":\"#2a3f5f\",\"gridcolor\":\"white\",\"linecolor\":\"white\",\"minorgridcolor\":\"white\",\"startlinecolor\":\"#2a3f5f\"},\"type\":\"carpet\"}],\"choropleth\":[{\"colorbar\":{\"outlinewidth\":0,\"ticks\":\"\"},\"type\":\"choropleth\"}],\"contour\":[{\"colorbar\":{\"outlinewidth\":0,\"ticks\":\"\"},\"colorscale\":[[0.0,\"#0d0887\"],[0.1111111111111111,\"#46039f\"],[0.2222222222222222,\"#7201a8\"],[0.3333333333333333,\"#9c179e\"],[0.4444444444444444,\"#bd3786\"],[0.5555555555555556,\"#d8576b\"],[0.6666666666666666,\"#ed7953\"],[0.7777777777777778,\"#fb9f3a\"],[0.8888888888888888,\"#fdca26\"],[1.0,\"#f0f921\"]],\"type\":\"contour\"}],\"contourcarpet\":[{\"colorbar\":{\"outlinewidth\":0,\"ticks\":\"\"},\"type\":\"contourcarpet\"}],\"heatmap\":[{\"colorbar\":{\"outlinewidth\":0,\"ticks\":\"\"},\"colorscale\":[[0.0,\"#0d0887\"],[0.1111111111111111,\"#46039f\"],[0.2222222222222222,\"#7201a8\"],[0.3333333333333333,\"#9c179e\"],[0.4444444444444444,\"#bd3786\"],[0.5555555555555556,\"#d8576b\"],[0.6666666666666666,\"#ed7953\"],[0.7777777777777778,\"#fb9f3a\"],[0.8888888888888888,\"#fdca26\"],[1.0,\"#f0f921\"]],\"type\":\"heatmap\"}],\"heatmapgl\":[{\"colorbar\":{\"outlinewidth\":0,\"ticks\":\"\"},\"colorscale\":[[0.0,\"#0d0887\"],[0.1111111111111111,\"#46039f\"],[0.2222222222222222,\"#7201a8\"],[0.3333333333333333,\"#9c179e\"],[0.4444444444444444,\"#bd3786\"],[0.5555555555555556,\"#d8576b\"],[0.6666666666666666,\"#ed7953\"],[0.7777777777777778,\"#fb9f3a\"],[0.8888888888888888,\"#fdca26\"],[1.0,\"#f0f921\"]],\"type\":\"heatmapgl\"}],\"histogram\":[{\"marker\":{\"pattern\":{\"fillmode\":\"overlay\",\"size\":10,\"solidity\":0.2}},\"type\":\"histogram\"}],\"histogram2d\":[{\"colorbar\":{\"outlinewidth\":0,\"ticks\":\"\"},\"colorscale\":[[0.0,\"#0d0887\"],[0.1111111111111111,\"#46039f\"],[0.2222222222222222,\"#7201a8\"],[0.3333333333333333,\"#9c179e\"],[0.4444444444444444,\"#bd3786\"],[0.5555555555555556,\"#d8576b\"],[0.6666666666666666,\"#ed7953\"],[0.7777777777777778,\"#fb9f3a\"],[0.8888888888888888,\"#fdca26\"],[1.0,\"#f0f921\"]],\"type\":\"histogram2d\"}],\"histogram2dcontour\":[{\"colorbar\":{\"outlinewidth\":0,\"ticks\":\"\"},\"colorscale\":[[0.0,\"#0d0887\"],[0.1111111111111111,\"#46039f\"],[0.2222222222222222,\"#7201a8\"],[0.3333333333333333,\"#9c179e\"],[0.4444444444444444,\"#bd3786\"],[0.5555555555555556,\"#d8576b\"],[0.6666666666666666,\"#ed7953\"],[0.7777777777777778,\"#fb9f3a\"],[0.8888888888888888,\"#fdca26\"],[1.0,\"#f0f921\"]],\"type\":\"histogram2dcontour\"}],\"mesh3d\":[{\"colorbar\":{\"outlinewidth\":0,\"ticks\":\"\"},\"type\":\"mesh3d\"}],\"parcoords\":[{\"line\":{\"colorbar\":{\"outlinewidth\":0,\"ticks\":\"\"}},\"type\":\"parcoords\"}],\"pie\":[{\"automargin\":true,\"type\":\"pie\"}],\"scatter\":[{\"marker\":{\"colorbar\":{\"outlinewidth\":0,\"ticks\":\"\"}},\"type\":\"scatter\"}],\"scatter3d\":[{\"line\":{\"colorbar\":{\"outlinewidth\":0,\"ticks\":\"\"}},\"marker\":{\"colorbar\":{\"outlinewidth\":0,\"ticks\":\"\"}},\"type\":\"scatter3d\"}],\"scattercarpet\":[{\"marker\":{\"colorbar\":{\"outlinewidth\":0,\"ticks\":\"\"}},\"type\":\"scattercarpet\"}],\"scattergeo\":[{\"marker\":{\"colorbar\":{\"outlinewidth\":0,\"ticks\":\"\"}},\"type\":\"scattergeo\"}],\"scattergl\":[{\"marker\":{\"colorbar\":{\"outlinewidth\":0,\"ticks\":\"\"}},\"type\":\"scattergl\"}],\"scattermapbox\":[{\"marker\":{\"colorbar\":{\"outlinewidth\":0,\"ticks\":\"\"}},\"type\":\"scattermapbox\"}],\"scatterpolar\":[{\"marker\":{\"colorbar\":{\"outlinewidth\":0,\"ticks\":\"\"}},\"type\":\"scatterpolar\"}],\"scatterpolargl\":[{\"marker\":{\"colorbar\":{\"outlinewidth\":0,\"ticks\":\"\"}},\"type\":\"scatterpolargl\"}],\"scatterternary\":[{\"marker\":{\"colorbar\":{\"outlinewidth\":0,\"ticks\":\"\"}},\"type\":\"scatterternary\"}],\"surface\":[{\"colorbar\":{\"outlinewidth\":0,\"ticks\":\"\"},\"colorscale\":[[0.0,\"#0d0887\"],[0.1111111111111111,\"#46039f\"],[0.2222222222222222,\"#7201a8\"],[0.3333333333333333,\"#9c179e\"],[0.4444444444444444,\"#bd3786\"],[0.5555555555555556,\"#d8576b\"],[0.6666666666666666,\"#ed7953\"],[0.7777777777777778,\"#fb9f3a\"],[0.8888888888888888,\"#fdca26\"],[1.0,\"#f0f921\"]],\"type\":\"surface\"}],\"table\":[{\"cells\":{\"fill\":{\"color\":\"#EBF0F8\"},\"line\":{\"color\":\"white\"}},\"header\":{\"fill\":{\"color\":\"#C8D4E3\"},\"line\":{\"color\":\"white\"}},\"type\":\"table\"}]},\"layout\":{\"annotationdefaults\":{\"arrowcolor\":\"#2a3f5f\",\"arrowhead\":0,\"arrowwidth\":1},\"autotypenumbers\":\"strict\",\"coloraxis\":{\"colorbar\":{\"outlinewidth\":0,\"ticks\":\"\"}},\"colorscale\":{\"diverging\":[[0,\"#8e0152\"],[0.1,\"#c51b7d\"],[0.2,\"#de77ae\"],[0.3,\"#f1b6da\"],[0.4,\"#fde0ef\"],[0.5,\"#f7f7f7\"],[0.6,\"#e6f5d0\"],[0.7,\"#b8e186\"],[0.8,\"#7fbc41\"],[0.9,\"#4d9221\"],[1,\"#276419\"]],\"sequential\":[[0.0,\"#0d0887\"],[0.1111111111111111,\"#46039f\"],[0.2222222222222222,\"#7201a8\"],[0.3333333333333333,\"#9c179e\"],[0.4444444444444444,\"#bd3786\"],[0.5555555555555556,\"#d8576b\"],[0.6666666666666666,\"#ed7953\"],[0.7777777777777778,\"#fb9f3a\"],[0.8888888888888888,\"#fdca26\"],[1.0,\"#f0f921\"]],\"sequentialminus\":[[0.0,\"#0d0887\"],[0.1111111111111111,\"#46039f\"],[0.2222222222222222,\"#7201a8\"],[0.3333333333333333,\"#9c179e\"],[0.4444444444444444,\"#bd3786\"],[0.5555555555555556,\"#d8576b\"],[0.6666666666666666,\"#ed7953\"],[0.7777777777777778,\"#fb9f3a\"],[0.8888888888888888,\"#fdca26\"],[1.0,\"#f0f921\"]]},\"colorway\":[\"#636efa\",\"#EF553B\",\"#00cc96\",\"#ab63fa\",\"#FFA15A\",\"#19d3f3\",\"#FF6692\",\"#B6E880\",\"#FF97FF\",\"#FECB52\"],\"font\":{\"color\":\"#2a3f5f\"},\"geo\":{\"bgcolor\":\"white\",\"lakecolor\":\"white\",\"landcolor\":\"#E5ECF6\",\"showlakes\":true,\"showland\":true,\"subunitcolor\":\"white\"},\"hoverlabel\":{\"align\":\"left\"},\"hovermode\":\"closest\",\"mapbox\":{\"style\":\"light\"},\"paper_bgcolor\":\"white\",\"plot_bgcolor\":\"#E5ECF6\",\"polar\":{\"angularaxis\":{\"gridcolor\":\"white\",\"linecolor\":\"white\",\"ticks\":\"\"},\"bgcolor\":\"#E5ECF6\",\"radialaxis\":{\"gridcolor\":\"white\",\"linecolor\":\"white\",\"ticks\":\"\"}},\"scene\":{\"xaxis\":{\"backgroundcolor\":\"#E5ECF6\",\"gridcolor\":\"white\",\"gridwidth\":2,\"linecolor\":\"white\",\"showbackground\":true,\"ticks\":\"\",\"zerolinecolor\":\"white\"},\"yaxis\":{\"backgroundcolor\":\"#E5ECF6\",\"gridcolor\":\"white\",\"gridwidth\":2,\"linecolor\":\"white\",\"showbackground\":true,\"ticks\":\"\",\"zerolinecolor\":\"white\"},\"zaxis\":{\"backgroundcolor\":\"#E5ECF6\",\"gridcolor\":\"white\",\"gridwidth\":2,\"linecolor\":\"white\",\"showbackground\":true,\"ticks\":\"\",\"zerolinecolor\":\"white\"}},\"shapedefaults\":{\"line\":{\"color\":\"#2a3f5f\"}},\"ternary\":{\"aaxis\":{\"gridcolor\":\"white\",\"linecolor\":\"white\",\"ticks\":\"\"},\"baxis\":{\"gridcolor\":\"white\",\"linecolor\":\"white\",\"ticks\":\"\"},\"bgcolor\":\"#E5ECF6\",\"caxis\":{\"gridcolor\":\"white\",\"linecolor\":\"white\",\"ticks\":\"\"}},\"title\":{\"x\":0.05},\"xaxis\":{\"automargin\":true,\"gridcolor\":\"white\",\"linecolor\":\"white\",\"ticks\":\"\",\"title\":{\"standoff\":15},\"zerolinecolor\":\"white\",\"zerolinewidth\":2},\"yaxis\":{\"automargin\":true,\"gridcolor\":\"white\",\"linecolor\":\"white\",\"ticks\":\"\",\"title\":{\"standoff\":15},\"zerolinecolor\":\"white\",\"zerolinewidth\":2}}},\"xaxis\":{\"anchor\":\"y\",\"domain\":[0.0,1.0],\"title\":{\"text\":\"note_val\"}},\"yaxis\":{\"anchor\":\"x\",\"domain\":[0.0,1.0]},\"legend\":{\"tracegroupgap\":0},\"margin\":{\"t\":60},\"violinmode\":\"group\"},                        {\"responsive\": true}                    ).then(function(){\n",
              "                            \n",
              "var gd = document.getElementById('4f88895c-b38c-4485-b6e1-03218d7a6b2e');\n",
              "var x = new MutationObserver(function (mutations, observer) {{\n",
              "        var display = window.getComputedStyle(gd).display;\n",
              "        if (!display || display === 'none') {{\n",
              "            console.log([gd, 'removed!']);\n",
              "            Plotly.purge(gd);\n",
              "            observer.disconnect();\n",
              "        }}\n",
              "}});\n",
              "\n",
              "// Listen for the removal of the full notebook cells\n",
              "var notebookContainer = gd.closest('#notebook-container');\n",
              "if (notebookContainer) {{\n",
              "    x.observe(notebookContainer, {childList: true});\n",
              "}}\n",
              "\n",
              "// Listen for the clearing of the current output cell\n",
              "var outputEl = gd.closest('.output');\n",
              "if (outputEl) {{\n",
              "    x.observe(outputEl, {childList: true});\n",
              "}}\n",
              "\n",
              "                        })                };                            </script>        </div>\n",
              "</body>\n",
              "</html>"
            ]
          },
          "metadata": {}
        }
      ]
    }
  ]
}